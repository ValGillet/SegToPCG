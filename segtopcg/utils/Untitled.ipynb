{
 "cells": [
  {
   "cell_type": "code",
   "execution_count": 50,
   "id": "38e6d3b1",
   "metadata": {},
   "outputs": [],
   "source": [
    "import daisy\n",
    "import numpy as np\n",
    "from collections import defaultdict"
   ]
  },
  {
   "cell_type": "code",
   "execution_count": 89,
   "id": "85af6177",
   "metadata": {},
   "outputs": [],
   "source": [
    "fragments = '/mnt/hdd2/DATA/block-face-EM/Megalopta/predictions/megalopta_FB_setup_03_0_2_FBOK_600000_1/megalopta_FB_setup_03_0_2_FBOK_600000_1_frags.zarr'\n",
    "chunk_size = [5000, 5000, 5000]\n",
    "comp_chunk_scale = 2"
   ]
  },
  {
   "cell_type": "code",
   "execution_count": 117,
   "id": "082ce876",
   "metadata": {},
   "outputs": [],
   "source": [
    "ds = daisy.open_ds(fragments, 'frags')\n",
    "chunk_shape = daisy.Coordinate(chunk_size) / daisy.Coordinate(ds.voxel_size)\n",
    "n_chunks = np.ceil(np.array(ds.shape)/np.array(chunk_shape)).astype(int)\n",
    "\n",
    "chunk_list = []\n",
    "chunk_groups = []\n",
    "for ix, x in enumerate(range(n_chunks[2])):\n",
    "    for iy, y in enumerate(range(n_chunks[1])):\n",
    "        for iz, z in enumerate(range(n_chunks[0])):\n",
    "            chunk = (x,y,z)\n",
    "            chunk_list.append(chunk)\n",
    "            group = tuple((np.array([ix,iy,iz])) // comp_chunk_scale)\n",
    "            chunk_groups.append(group)"
   ]
  },
  {
   "cell_type": "code",
   "execution_count": 91,
   "id": "f96d286b",
   "metadata": {},
   "outputs": [
    {
     "data": {
      "text/plain": [
       "8"
      ]
     },
     "execution_count": 91,
     "metadata": {},
     "output_type": "execute_result"
    }
   ],
   "source": [
    "len(chunk_groups[(0,0,0)])"
   ]
  },
  {
   "cell_type": "code",
   "execution_count": 125,
   "id": "350cb707",
   "metadata": {},
   "outputs": [],
   "source": [
    "chunk_coords = [4,4,4]\n",
    "chunk_groups = np.array(chunk_groups)\n",
    "chunk_list = np.array(chunk_list)"
   ]
  },
  {
   "cell_type": "code",
   "execution_count": 122,
   "id": "60d4593f",
   "metadata": {},
   "outputs": [],
   "source": [
    "adj_chunk_coords_list = np.empty([6,3], dtype=int)\n",
    "i=0\n",
    "for d in [-1,1]:\n",
    "    for dim in range(3):\n",
    "        diff = np.zeros([3], dtype=int)\n",
    "        diff[dim] = d\n",
    "        adj_chunk_coords_list[i,:] = chunk_coords + diff\n",
    "        i += 1\n",
    "adj_chunk_coords_list = adj_chunk_coords_list[np.all(adj_chunk_coords_list >= 0, 1)]"
   ]
  },
  {
   "cell_type": "code",
   "execution_count": 127,
   "id": "994e560b",
   "metadata": {},
   "outputs": [
    {
     "data": {
      "text/plain": [
       "array([[2, 2, 2]])"
      ]
     },
     "execution_count": 127,
     "metadata": {},
     "output_type": "execute_result"
    }
   ],
   "source": [
    "main_group = chunk_groups[np.all(chunk_list == chunk_coords, 1)]\n",
    "main_group"
   ]
  },
  {
   "cell_type": "code",
   "execution_count": 128,
   "id": "63102167",
   "metadata": {},
   "outputs": [
    {
     "data": {
      "text/plain": [
       "array([[1, 2, 2],\n",
       "       [2, 1, 2],\n",
       "       [2, 2, 1],\n",
       "       [2, 2, 2],\n",
       "       [2, 2, 2],\n",
       "       [2, 2, 2]])"
      ]
     },
     "execution_count": 128,
     "metadata": {},
     "output_type": "execute_result"
    }
   ],
   "source": [
    "mask = np.zeros(len(chunk_list)).astype(bool)\n",
    "for ch in adj_chunk_coords_list:\n",
    "    mask = mask | np.all(ch == np.array(chunk_list), 1)\n",
    "    \n",
    "np.array(chunk_groups)[mask]"
   ]
  },
  {
   "cell_type": "code",
   "execution_count": 130,
   "id": "830a206d",
   "metadata": {},
   "outputs": [],
   "source": [
    "chunks_to_cut = np.array(chunk_list)"
   ]
  },
  {
   "cell_type": "code",
   "execution_count": 171,
   "id": "2ccd9d4c",
   "metadata": {},
   "outputs": [],
   "source": [
    "adj_chunk_coords_list = np.empty([6,3], dtype=int)\n",
    "i=0\n",
    "for d in [-1,1]:\n",
    "    for dim in range(3):\n",
    "        diff = np.zeros([3], dtype=int)\n",
    "        diff[dim] = d\n",
    "        adj_chunk_coords_list[i,:] = chunk_coords + diff\n",
    "        i += 1\n",
    "adj_chunk_coords_list = adj_chunk_coords_list[np.all(adj_chunk_coords_list >= 0, 1)]\n",
    "\n",
    "# Is chunk to be isolated?\n",
    "if np.any(np.all(chunk_coords == chunks_to_cut, 1)):\n",
    "    # If yes, simply isolate it from all chunks around\n",
    "    mask = np.zeros(adj_chunk_coords_list.shape[0], dtype=bool)\n",
    "else:\n",
    "    # If not isolate from any chunk that needs to be isolated...\n",
    "    mask = np.array([np.logical_not(np.any(np.all(chunk == chunks_to_cut, 1))) for chunk in adj_chunk_coords_list])\n",
    "\n",
    "# Always keep all chunks in the same group connected to each other\n",
    "main_group = chunk_groups[np.all(chunk_list == chunk_coords, 1)]\n",
    "for i, chunk in enumerate(adj_chunk_coords_list):\n",
    "    mask[i] = np.all(chunk_groups[np.all(chunk == np.array(chunk_list), 1)] == main_group, 1)"
   ]
  },
  {
   "cell_type": "code",
   "execution_count": 172,
   "id": "bee38882",
   "metadata": {},
   "outputs": [
    {
     "data": {
      "text/plain": [
       "array([False, False, False,  True,  True,  True])"
      ]
     },
     "execution_count": 172,
     "metadata": {},
     "output_type": "execute_result"
    }
   ],
   "source": [
    "mask"
   ]
  },
  {
   "cell_type": "code",
   "execution_count": 170,
   "id": "9e75d780",
   "metadata": {},
   "outputs": [
    {
     "data": {
      "text/plain": [
       "array([False, False, False,  True,  True,  True])"
      ]
     },
     "execution_count": 170,
     "metadata": {},
     "output_type": "execute_result"
    }
   ],
   "source": [
    "mask"
   ]
  },
  {
   "cell_type": "code",
   "execution_count": null,
   "id": "9147b585",
   "metadata": {},
   "outputs": [],
   "source": []
  }
 ],
 "metadata": {
  "kernelspec": {
   "display_name": "Python 3 (ipykernel)",
   "language": "python",
   "name": "python3"
  },
  "language_info": {
   "codemirror_mode": {
    "name": "ipython",
    "version": 3
   },
   "file_extension": ".py",
   "mimetype": "text/x-python",
   "name": "python",
   "nbconvert_exporter": "python",
   "pygments_lexer": "ipython3",
   "version": "3.8.13"
  }
 },
 "nbformat": 4,
 "nbformat_minor": 5
}
